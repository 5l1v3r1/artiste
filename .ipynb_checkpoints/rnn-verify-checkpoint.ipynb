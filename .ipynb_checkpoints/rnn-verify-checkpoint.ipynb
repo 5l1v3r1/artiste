{
 "cells": [
  {
   "cell_type": "markdown",
   "metadata": {},
   "source": [
    "# RNN proof of concept"
   ]
  },
  {
   "cell_type": "markdown",
   "metadata": {},
   "source": [
    "The idea here is to just build a working LSTM that takes 2D data at each timestep and trains with batches. We should do this with a minimum of code. Once we have this working, we can apply it to more interesting things...like building Artiste!"
   ]
  },
  {
   "cell_type": "code",
   "execution_count": 1,
   "metadata": {
    "collapsed": false
   },
   "outputs": [],
   "source": [
    "import numpy as np\n",
    "import tensorflow as tf\n",
    "\n",
    "import time\n",
    "import cPickle as pickle\n",
    "import matplotlib.pyplot as plt\n",
    "import matplotlib.cm as cm\n",
    "%matplotlib inline"
   ]
  },
  {
   "cell_type": "markdown",
   "metadata": {},
   "source": [
    "## Parameters"
   ]
  },
  {
   "cell_type": "code",
   "execution_count": 2,
   "metadata": {
    "collapsed": false
   },
   "outputs": [],
   "source": [
    "batch_size = 32\n",
    "global_step = 0\n",
    "save_path = 'models/model.ckpt'\n",
    "ylen = 2\n",
    "zlen = 2\n",
    "tsteps = 30\n",
    "lr = 1e-4"
   ]
  },
  {
   "cell_type": "markdown",
   "metadata": {},
   "source": [
    "## Build vision model"
   ]
  },
  {
   "cell_type": "code",
   "execution_count": 3,
   "metadata": {
    "collapsed": false
   },
   "outputs": [],
   "source": [
    "tf.reset_default_graph()\n",
    "sess = tf.InteractiveSession()\n",
    "\n",
    "y = tf.placeholder(tf.float32, shape=[None, None, ylen], name=\"y\")\n",
    "z = tf.placeholder(tf.float32, shape=[None, None, zlen], name=\"z\")"
   ]
  },
  {
   "cell_type": "code",
   "execution_count": 4,
   "metadata": {
    "collapsed": false
   },
   "outputs": [],
   "source": [
    "model = {}\n",
    "with tf.variable_scope('sketch',reuse=False):\n",
    "    xavier_l1 = tf.truncated_normal_initializer(mean=0, stddev=1./np.sqrt(ylen), dtype=tf.float32)\n",
    "    model['W1'] = tf.get_variable(\"W1\", [ylen, 5], initializer=xavier_l1)\n",
    "\n",
    "    rnn_init = tf.truncated_normal_initializer(stddev=0.075, dtype=tf.float32)\n",
    "    model['rnn'] = tf.nn.rnn_cell.LSTMCell(50, state_is_tuple=True, initializer=rnn_init)\n",
    "\n",
    "    model['istate_batch'] = model['rnn'].zero_state(batch_size=batch_size, dtype=tf.float32)\n",
    "    model['istate'] = model['rnn'].zero_state(batch_size=1, dtype=tf.float32)\n",
    "\n",
    "    xavier_l3 = tf.truncated_normal_initializer(stddev=1./np.sqrt(50), dtype=tf.float32)\n",
    "    model['W3'] = tf.get_variable(\"W3\", [50, zlen], initializer=xavier_l3)"
   ]
  },
  {
   "cell_type": "code",
   "execution_count": 5,
   "metadata": {
    "collapsed": true
   },
   "outputs": [],
   "source": [
    "def sketch_forward(x, state, tsteps, reuse=False):\n",
    "    with tf.variable_scope('sketch',reuse=reuse):\n",
    "        \n",
    "        x = tf.reshape(x, [-1, 2])\n",
    "        h = tf.matmul(x, model['W1']) # tsteps list of [batches, H]\n",
    "        h = tf.nn.relu(h)             # ReLU nonlinearity\n",
    "\n",
    "        hs = [tf.squeeze(h_, [1]) for h_ in tf.split(1, tsteps, tf.reshape(h, [-1, tsteps, 5]))]\n",
    "\n",
    "        rnn_outs, state = tf.nn.seq2seq.rnn_decoder(hs, state, model['rnn'], scope='sketch')\n",
    "        \n",
    "        rnn_out = tf.reshape(tf.concat(1, rnn_outs), [-1, 50])\n",
    "\n",
    "        logps = tf.matmul(rnn_out, model['W3'])\n",
    "        p = tf.reshape(logps, [-1, tsteps, zlen])\n",
    "    return p, state"
   ]
  },
  {
   "cell_type": "code",
   "execution_count": 6,
   "metadata": {
    "collapsed": false
   },
   "outputs": [],
   "source": [
    "z_hat_batch, model['fstate_batch'] = sketch_forward(y, model['istate_batch'], tsteps=tsteps, reuse=False)\n",
    "\n",
    "z_hat, model['fstate'] = sketch_forward(y, model['istate'], tsteps=1, reuse=True)\n",
    "\n",
    "zloss = tf.nn.l2_loss(z - z_hat_batch) / batch_size\n",
    "optimizer = tf.train.AdamOptimizer(lr)\n",
    "grads = optimizer.compute_gradients(zloss, var_list=tf.trainable_variables())\n",
    "train_op = optimizer.apply_gradients(grads)\n",
    "\n",
    "sess.run(tf.initialize_all_variables())"
   ]
  },
  {
   "cell_type": "markdown",
   "metadata": {},
   "source": [
    "## Model overview"
   ]
  },
  {
   "cell_type": "code",
   "execution_count": 7,
   "metadata": {
    "collapsed": false
   },
   "outputs": [
    {
     "name": "stdout",
     "output_type": "stream",
     "text": [
      "Model overview:\n",
      "\tvariable \"sketch/W1:0\" has 10 parameters\n",
      "\tvariable \"sketch/W3:0\" has 100 parameters\n",
      "\tvariable \"sketch/sketch/LSTMCell/W_0:0\" has 11000 parameters\n",
      "\tvariable \"sketch/sketch/LSTMCell/B:0\" has 200 parameters\n",
      "Total of 11310 parameters\n"
     ]
    }
   ],
   "source": [
    "total_parameters = 0 ; print \"Model overview:\"\n",
    "for variable in tf.trainable_variables():\n",
    "    shape = variable.get_shape()\n",
    "    variable_parameters = 1\n",
    "    for dim in shape:\n",
    "        variable_parameters *= dim.value\n",
    "    print '\\tvariable \"{}\" has {} parameters' \\\n",
    "        .format(variable.name, variable_parameters)\n",
    "    total_parameters += variable_parameters\n",
    "print \"Total of {} parameters\".format(total_parameters)"
   ]
  },
  {
   "cell_type": "markdown",
   "metadata": {},
   "source": [
    "## Load saved weights"
   ]
  },
  {
   "cell_type": "code",
   "execution_count": 8,
   "metadata": {
    "collapsed": false
   },
   "outputs": [
    {
     "name": "stdout",
     "output_type": "stream",
     "text": [
      "no saved model to load. starting new session\n"
     ]
    }
   ],
   "source": [
    "saver = tf.train.Saver(tf.all_variables())\n",
    "load_was_success = True # yes, I'm being optimistic\n",
    "try:\n",
    "    save_dir = '/'.join(save_path.split('/')[:-1])\n",
    "    ckpt = tf.train.get_checkpoint_state(save_dir)\n",
    "    load_path = ckpt.model_checkpoint_path\n",
    "    saver.restore(sess, load_path)\n",
    "except:\n",
    "    print \"no saved model to load. starting new session\"\n",
    "    load_was_success = False\n",
    "else:\n",
    "    print \"loaded model: {}\".format(load_path)\n",
    "    saver = tf.train.Saver(tf.all_variables())\n",
    "    global_step = int(load_path.split('-')[-1])"
   ]
  },
  {
   "cell_type": "markdown",
   "metadata": {},
   "source": [
    "## Synthesize data"
   ]
  },
  {
   "cell_type": "code",
   "execution_count": 9,
   "metadata": {
    "collapsed": false
   },
   "outputs": [],
   "source": [
    "def next_batch(batch_size, tsteps, ylen, noise=0.05):\n",
    "    x = np.reshape( np.linspace(0, 2*np.pi,tsteps), (-1,1))\n",
    "    y = np.hstack([np.cos(x), np.sin(x)])\n",
    "    y -= np.concatenate((y[-1:,:], y[:-1,:]), axis=0)\n",
    "    z = np.concatenate((y[-1:,:], y[:-1,:]), axis=0)\n",
    "    \n",
    "    y = [y]*batch_size ; y = [b + noise*np.random.normal(size=b.shape) for b in y]\n",
    "    z = [z]*batch_size ; z = [b + noise*np.random.normal(size=b.shape) for b in z]\n",
    "    return y,z"
   ]
  },
  {
   "cell_type": "code",
   "execution_count": 10,
   "metadata": {
    "collapsed": false
   },
   "outputs": [
    {
     "data": {
      "text/plain": [
       "[<matplotlib.lines.Line2D at 0x111ea2250>]"
      ]
     },
     "execution_count": 10,
     "metadata": {},
     "output_type": "execute_result"
    },
    {
     "data": {
      "image/png": "[encoded data removed]",
      "text/plain": [
       "<matplotlib.figure.Figure at 0x111e82710>"
      ]
     },
     "metadata": {},
     "output_type": "display_data"
    }
   ],
   "source": [
    "p,q = next_batch(batch_size, tsteps, ylen, noise=0)\n",
    "k = np.cumsum(p[0],axis=1)\n",
    "plt.plot(k[:,0], k[:,1])"
   ]
  },
  {
   "cell_type": "markdown",
   "metadata": {},
   "source": [
    "## Train vision models"
   ]
  },
  {
   "cell_type": "code",
   "execution_count": 15,
   "metadata": {
    "collapsed": false
   },
   "outputs": [
    {
     "name": "stdout",
     "output_type": "stream",
     "text": [
      "\tstep 100, loss 0.112253, batch time 0.026364\n",
      "\tstep 200, loss 0.105505, batch time 0.023158\n",
      "\tstep 300, loss 0.107453, batch time 0.023503\n",
      "\tstep 400, loss 0.101549, batch time 0.022904\n",
      "\n",
      "total runtime: 13.231085 seconds\n"
     ]
    }
   ],
   "source": [
    "begin = time.time()\n",
    "np_state = model['istate']\n",
    "for i in range(global_step, 500):\n",
    "    start = time.time()\n",
    "    \n",
    "    batch = next_batch(batch_size, tsteps, ylen)\n",
    "    feed = {y: batch[0], z: batch[1]}\n",
    "    train_loss, _ = sess.run([zloss, train_op], feed_dict=feed)\n",
    "    \n",
    "    if i%100 == 0:\n",
    "        print \"\\tstep {}, loss {:3f}, batch time {:3f}\".format(i, train_loss, time.time()-start)\n",
    "    global_step += 1\n",
    "        \n",
    "# saver.save(sess, save_path, global_step=global_step)\n",
    "# print \"SAVED MODEL #{}\".format(global_step)\n",
    "print \"\\ntotal runtime: {:3f} seconds\".format(time.time()-begin)"
   ]
  },
  {
   "cell_type": "markdown",
   "metadata": {},
   "source": [
    "## Generate with model"
   ]
  },
  {
   "cell_type": "code",
   "execution_count": 16,
   "metadata": {
    "collapsed": false
   },
   "outputs": [
    {
     "name": "stdout",
     "output_type": "stream",
     "text": [
      "(1, 1, 2)\n"
     ]
    }
   ],
   "source": [
    "prev_coord = np.asarray([[[0,1]]])\n",
    "print prev_coord.shape\n",
    "pts = np.zeros((1,0,zlen))\n",
    "c, h = model['istate'].c.eval(), model['istate'].h.eval()\n",
    "\n",
    "for t in range(50):\n",
    "    pts = np.concatenate((pts,prev_coord), axis=1)\n",
    "    feed = {y: prev_coord, model['istate'].c: c, model['istate'].h: h}\n",
    "    fetch = [z_hat, model['fstate'].c, model['fstate'].h]\n",
    "    [prev_coord, c, h] = sess.run(fetch, feed)\n",
    "#     print model['istate'].c.eval(feed)"
   ]
  },
  {
   "cell_type": "code",
   "execution_count": 17,
   "metadata": {
    "collapsed": false
   },
   "outputs": [
    {
     "data": {
      "text/plain": [
       "[<matplotlib.lines.Line2D at 0x113ff1790>]"
      ]
     },
     "execution_count": 17,
     "metadata": {},
     "output_type": "execute_result"
    },
    {
     "data": {
      "image/png": "[encoded data removed]",
      "text/plain": [
       "<matplotlib.figure.Figure at 0x11404b710>"
      ]
     },
     "metadata": {},
     "output_type": "display_data"
    }
   ],
   "source": [
    "t = np.cumsum(pts[0,:,:],axis=1)\n",
    "# print t\n",
    "plt.plot(t[:,0], t[:,1])"
   ]
  },
  {
   "cell_type": "code",
   "execution_count": null,
   "metadata": {
    "collapsed": true
   },
   "outputs": [],
   "source": []
  }
 ],
 "metadata": {
  "kernelspec": {
   "display_name": "Python 2",
   "language": "python",
   "name": "python2"
  },
  "language_info": {
   "codemirror_mode": {
    "name": "ipython",
    "version": 2
   },
   "file_extension": ".py",
   "mimetype": "text/x-python",
   "name": "python",
   "nbconvert_exporter": "python",
   "pygments_lexer": "ipython2",
   "version": "2.7.10"
  }
 },
 "nbformat": 4,
 "nbformat_minor": 0
}
