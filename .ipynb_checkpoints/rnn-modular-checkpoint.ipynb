{
 "cells": [
  {
   "cell_type": "markdown",
   "metadata": {},
   "source": [
    "# Modular RNN proof of concept"
   ]
  },
  {
   "cell_type": "markdown",
   "metadata": {},
   "source": [
    "The idea here is to just build a working LSTM that takes 2D data at each timestep and trains with batches. We should do this with a minimum of code. Once we have this working, we can apply it to more interesting things...like building Artiste!"
   ]
  },
  {
   "cell_type": "code",
   "execution_count": 1,
   "metadata": {
    "collapsed": false
   },
   "outputs": [],
   "source": [
    "import numpy as np\n",
    "import tensorflow as tf\n",
    "\n",
    "import time\n",
    "import cPickle as pickle\n",
    "import matplotlib.pyplot as plt\n",
    "import matplotlib.cm as cm\n",
    "%matplotlib inline"
   ]
  },
  {
   "cell_type": "markdown",
   "metadata": {},
   "source": [
    "## Build model"
   ]
  },
  {
   "cell_type": "code",
   "execution_count": 2,
   "metadata": {
    "collapsed": false
   },
   "outputs": [],
   "source": [
    "class SequentialModel():\n",
    "    def __init__(self, batch_size, tsteps, xlen, ylen, lr):\n",
    "        self.sess = tf.InteractiveSession()\n",
    "        self.batch_size = batch_size\n",
    "        self.tsteps = tsteps\n",
    "        self.xlen = xlen\n",
    "        self.ylen = ylen\n",
    "        self.lr = lr\n",
    "        self.x = x = tf.placeholder(tf.float32, shape=[None, None, xlen], name=\"x\")\n",
    "        self.y = y = tf.placeholder(tf.float32, shape=[None, None, ylen], name=\"y\")\n",
    "        \n",
    "        self.params = params = {}\n",
    "        self.fc1_size = fc1_size = 5\n",
    "        self.rnn_size = rnn_size = 50\n",
    "        with tf.variable_scope('sketch',reuse=False):\n",
    "            xavier_l1 = tf.truncated_normal_initializer(mean=0, stddev=1./np.sqrt(ylen), dtype=tf.float32)\n",
    "            params['W1'] = tf.get_variable(\"W1\", [xlen, fc1_size], initializer=xavier_l1)\n",
    "\n",
    "            rnn_init = tf.truncated_normal_initializer(stddev=0.075, dtype=tf.float32)\n",
    "            params['rnn'] = tf.nn.rnn_cell.LSTMCell(rnn_size, state_is_tuple=True, initializer=rnn_init)\n",
    "\n",
    "            params['istate_batch'] = params['rnn'].zero_state(batch_size=batch_size, dtype=tf.float32)\n",
    "            params['istate'] = params['rnn'].zero_state(batch_size=1, dtype=tf.float32)\n",
    "\n",
    "            xavier_l3 = tf.truncated_normal_initializer(stddev=1./np.sqrt(rnn_size), dtype=tf.float32)\n",
    "            params['W3'] = tf.get_variable(\"W3\", [rnn_size, ylen], initializer=xavier_l3)\n",
    "            \n",
    "        y_hat_batch, params['fstate_batch'] = self.sketch_forward(params['istate_batch'], tsteps=tsteps, reuse=False)\n",
    "        self.y_hat, params['fstate'] = self.sketch_forward(params['istate'], tsteps=1, reuse=True)\n",
    "        \n",
    "        self.loss = tf.nn.l2_loss(y - y_hat_batch) / batch_size\n",
    "        self.optimizer = tf.train.AdamOptimizer(lr)\n",
    "        self.grads = self.optimizer.compute_gradients(self.loss, var_list=tf.trainable_variables())\n",
    "        self.train_op = self.optimizer.apply_gradients(self.grads)\n",
    "\n",
    "        self.sess.run(tf.initialize_all_variables())\n",
    "            \n",
    "    def sketch_forward(self, state, tsteps, reuse=False):\n",
    "        with tf.variable_scope('sketch', reuse=reuse):\n",
    "            x = tf.reshape(self.x, [-1, 2])\n",
    "            h = tf.matmul(x, self.params['W1'])\n",
    "            h = tf.nn.relu(h) # ReLU nonlinearity\n",
    "\n",
    "            hs = [tf.squeeze(h_, [1]) for h_ in tf.split(1, tsteps, tf.reshape(h, [-1, tsteps, self.fc1_size]))]\n",
    "            rnn_outs, state = tf.nn.seq2seq.rnn_decoder(hs, state, self.params['rnn'], scope='sketch')\n",
    "            rnn_out = tf.reshape(tf.concat(1, rnn_outs), [-1, self.rnn_size])\n",
    "\n",
    "            logps = tf.matmul(rnn_out, self.params['W3'])\n",
    "            p = tf.reshape(logps, [-1, tsteps, self.ylen])\n",
    "        return p, state\n",
    "    \n",
    "    def train_step(self, batch):\n",
    "        feed = {self.x: batch[0], self.y: batch[1]}\n",
    "        train_loss, _ = self.sess.run([self.loss, self.train_op], feed_dict=feed)\n",
    "        return train_loss\n",
    "    \n",
    "    def generate(self, steps_forward):\n",
    "        prev_coord = np.asarray([[[0,1]]]) #np.zeros((1,1,self.xlen))\n",
    "        pts = np.zeros((1,0,self.ylen))\n",
    "        c, h = self.params['istate'].c.eval(), self.params['istate'].h.eval()\n",
    "\n",
    "        for t in range(steps_forward):\n",
    "            pts = np.concatenate((pts,prev_coord), axis=1)\n",
    "            feed = {self.x: prev_coord, self.params['istate'].c: c, self.params['istate'].h: h}\n",
    "            fetch = [self.y_hat, self.params['fstate'].c, self.params['fstate'].h]\n",
    "            [prev_coord, c, h] = self.sess.run(fetch, feed)\n",
    "        return pts"
   ]
  },
  {
   "cell_type": "markdown",
   "metadata": {},
   "source": [
    "## Parameters"
   ]
  },
  {
   "cell_type": "code",
   "execution_count": 3,
   "metadata": {
    "collapsed": false
   },
   "outputs": [],
   "source": [
    "global_step = 0\n",
    "save_path = 'models/model.ckpt'\n",
    "model = SequentialModel(batch_size=32, tsteps=30, xlen=2, ylen=2, lr=1e-4)"
   ]
  },
  {
   "cell_type": "markdown",
   "metadata": {},
   "source": [
    "## Model overview"
   ]
  },
  {
   "cell_type": "code",
   "execution_count": 4,
   "metadata": {
    "collapsed": false
   },
   "outputs": [
    {
     "name": "stdout",
     "output_type": "stream",
     "text": [
      "Model overview:\n",
      "\tvariable \"sketch/W1:0\" has 10 parameters\n",
      "\tvariable \"sketch/W3:0\" has 100 parameters\n",
      "\tvariable \"sketch/sketch/LSTMCell/W_0:0\" has 11000 parameters\n",
      "\tvariable \"sketch/sketch/LSTMCell/B:0\" has 200 parameters\n",
      "Total of 11310 parameters\n"
     ]
    }
   ],
   "source": [
    "total_parameters = 0 ; print \"Model overview:\"\n",
    "for variable in tf.trainable_variables():\n",
    "    shape = variable.get_shape()\n",
    "    variable_parameters = 1\n",
    "    for dim in shape:\n",
    "        variable_parameters *= dim.value\n",
    "    print '\\tvariable \"{}\" has {} parameters' \\\n",
    "        .format(variable.name, variable_parameters)\n",
    "    total_parameters += variable_parameters\n",
    "print \"Total of {} parameters\".format(total_parameters)"
   ]
  },
  {
   "cell_type": "markdown",
   "metadata": {},
   "source": [
    "## Load saved weights"
   ]
  },
  {
   "cell_type": "code",
   "execution_count": 5,
   "metadata": {
    "collapsed": false
   },
   "outputs": [
    {
     "name": "stdout",
     "output_type": "stream",
     "text": [
      "no saved model to load. starting new session\n"
     ]
    }
   ],
   "source": [
    "saver = tf.train.Saver(tf.all_variables())\n",
    "load_was_success = True # yes, I'm being optimistic\n",
    "try:\n",
    "    save_dir = '/'.join(save_path.split('/')[:-1])\n",
    "    ckpt = tf.train.get_checkpoint_state(save_dir)\n",
    "    load_path = ckpt.model_checkpoint_path\n",
    "    saver.restore(sess, load_path)\n",
    "except:\n",
    "    print \"no saved model to load. starting new session\"\n",
    "    load_was_success = False\n",
    "else:\n",
    "    print \"loaded model: {}\".format(load_path)\n",
    "    saver = tf.train.Saver(tf.all_variables())\n",
    "    global_step = int(load_path.split('-')[-1])"
   ]
  },
  {
   "cell_type": "markdown",
   "metadata": {},
   "source": [
    "## Synthesize data"
   ]
  },
  {
   "cell_type": "code",
   "execution_count": 6,
   "metadata": {
    "collapsed": false
   },
   "outputs": [],
   "source": [
    "def next_batch(batch_size, tsteps, ylen, noise=0.05):\n",
    "    x = np.reshape( np.linspace(0, 2*np.pi,tsteps), (-1,1))\n",
    "    y = np.hstack([np.cos(x), np.sin(x)])\n",
    "    y -= np.concatenate((y[-1:,:], y[:-1,:]), axis=0)\n",
    "    z = np.concatenate((y[-1:,:], y[:-1,:]), axis=0)\n",
    "    \n",
    "    y = [y]*batch_size ; y = [b + noise*np.random.normal(size=b.shape) for b in y]\n",
    "    z = [z]*batch_size ; z = [b + noise*np.random.normal(size=b.shape) for b in z]\n",
    "    return y,z"
   ]
  },
  {
   "cell_type": "code",
   "execution_count": 7,
   "metadata": {
    "collapsed": false
   },
   "outputs": [
    {
     "data": {
      "text/plain": [
       "[<matplotlib.lines.Line2D at 0x110f8e7d0>]"
      ]
     },
     "execution_count": 7,
     "metadata": {},
     "output_type": "execute_result"
    },
    {
     "data": {
      "image/png": "[encoded data removed]",
      "text/plain": [
       "<matplotlib.figure.Figure at 0x11e057c50>"
      ]
     },
     "metadata": {},
     "output_type": "display_data"
    }
   ],
   "source": [
    "p,q = next_batch(model.batch_size, model.tsteps, model.ylen)\n",
    "k = np.cumsum(p[0],axis=1)\n",
    "plt.plot(k[:,0], k[:,1])"
   ]
  },
  {
   "cell_type": "markdown",
   "metadata": {},
   "source": [
    "## Train vision models"
   ]
  },
  {
   "cell_type": "code",
   "execution_count": 8,
   "metadata": {
    "collapsed": false
   },
   "outputs": [
    {
     "name": "stdout",
     "output_type": "stream",
     "text": [
      "\tstep 0, loss 0.694082, batch time 0.211760\n",
      "\tstep 100, loss 0.532939, batch time 0.023384\n",
      "\tstep 200, loss 0.202468, batch time 0.022932\n",
      "\tstep 300, loss 0.136985, batch time 0.023144\n",
      "\tstep 400, loss 0.114549, batch time 0.022723\n",
      "\n",
      "total runtime: 12.545354 seconds\n"
     ]
    }
   ],
   "source": [
    "begin = time.time()\n",
    "np_state = model.params['istate']\n",
    "for i in range(global_step, 500):\n",
    "    start = time.time()\n",
    "    \n",
    "    batch = next_batch(model.batch_size, model.tsteps, model.ylen)\n",
    "    train_loss = model.train_step(batch)\n",
    "    \n",
    "    if global_step%100 == 0:\n",
    "        print \"\\tstep {}, loss {:3f}, batch time {:3f}\".format(i, train_loss, time.time()-start)\n",
    "    global_step += 1\n",
    "        \n",
    "# saver.save(sess, save_path, global_step=global_step)\n",
    "# print \"SAVED MODEL #{}\".format(global_step)\n",
    "print \"\\ntotal runtime: {:3f} seconds\".format(time.time()-begin)"
   ]
  },
  {
   "cell_type": "markdown",
   "metadata": {},
   "source": [
    "## Generate with model"
   ]
  },
  {
   "cell_type": "code",
   "execution_count": 9,
   "metadata": {
    "collapsed": false
   },
   "outputs": [
    {
     "data": {
      "text/plain": [
       "[<matplotlib.lines.Line2D at 0x11e057950>]"
      ]
     },
     "execution_count": 9,
     "metadata": {},
     "output_type": "execute_result"
    },
    {
     "data": {
      "image/png": "[encoded data removed]",
      "text/plain": [
       "<matplotlib.figure.Figure at 0x11e057910>"
      ]
     },
     "metadata": {},
     "output_type": "display_data"
    }
   ],
   "source": [
    "pts = model.generate(steps_forward=50)\n",
    "t = np.cumsum(pts[0,:,:],axis=1)\n",
    "plt.plot(t[:,0], t[:,1])"
   ]
  },
  {
   "cell_type": "code",
   "execution_count": null,
   "metadata": {
    "collapsed": true
   },
   "outputs": [],
   "source": []
  }
 ],
 "metadata": {
  "kernelspec": {
   "display_name": "Python 2",
   "language": "python",
   "name": "python2"
  },
  "language_info": {
   "codemirror_mode": {
    "name": "ipython",
    "version": 2
   },
   "file_extension": ".py",
   "mimetype": "text/x-python",
   "name": "python",
   "nbconvert_exporter": "python",
   "pygments_lexer": "ipython2",
   "version": "2.7.10"
  }
 },
 "nbformat": 4,
 "nbformat_minor": 0
}
