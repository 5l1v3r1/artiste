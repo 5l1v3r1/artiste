{
 "cells": [
  {
   "cell_type": "markdown",
   "metadata": {},
   "source": [
    "# Canvas"
   ]
  },
  {
   "cell_type": "code",
   "execution_count": 64,
   "metadata": {
    "collapsed": true
   },
   "outputs": [],
   "source": [
    "import numpy as np\n",
    "import copy\n",
    "\n",
    "import matplotlib.pyplot as plt\n",
    "import matplotlib.cm as cm\n",
    "%matplotlib inline"
   ]
  },
  {
   "cell_type": "code",
   "execution_count": 83,
   "metadata": {
    "collapsed": false
   },
   "outputs": [],
   "source": [
    "class CircleWorld():\n",
    "    def __init__(self, side):\n",
    "        self.side = side\n",
    "        self.max_steps = 4*side\n",
    "        self.reset()\n",
    "        \n",
    "    def move_pen(self, action):\n",
    "        if action is 0:\n",
    "            self.pen_coord += np.asarray([0,1])\n",
    "        elif action is 1:\n",
    "            self.pen_coord += np.asarray([1,1])\n",
    "        elif action is 2:\n",
    "            self.pen_coord += np.asarray([1,0])\n",
    "        elif action is 3:\n",
    "            self.pen_coord += np.asarray([1,-1])\n",
    "        elif action is 4:\n",
    "            self.pen_coord += np.asarray([0,-1])\n",
    "        elif action is 5:\n",
    "            self.pen_coord += np.asarray([-1,-1])\n",
    "        elif action is 6:\n",
    "            self.pen_coord += np.asarray([-1,0])\n",
    "        else:\n",
    "            self.pen_coord += np.asarray([-1,1])\n",
    "        \n",
    "        r1 = 0\n",
    "        if np.min(self.pen_coord) < 0 or np.max(self.pen_coord) >= self.side:\n",
    "            r1 += -5\n",
    "        self.pen_coord = self.pen_coord % self.side\n",
    "        self.canvas[self.pen_coord[0], self.pen_coord[1]] = 1\n",
    "        \n",
    "        r2 = self.reward()\n",
    "        r2 = 0 if r2 < 0 else r2\n",
    "        return r1 + r2\n",
    "    \n",
    "    def step(self, action):\n",
    "        reward = self.move_pen(action)\n",
    "        \n",
    "        o1 = (self.template != self.canvas)*self.template\n",
    "        o2 = np.zeros_like(o1); o2[self.pen_coord[0], self.pen_coord[1]] = 1\n",
    "        observation = np.concatenate((o1,o2)).ravel().astype(np.float)\n",
    "        \n",
    "        done = False if self.global_step < self.max_steps else True\n",
    "        self.global_step += 1\n",
    "        info = None\n",
    "        return observation, reward, done, info\n",
    "    \n",
    "    def reset(self):\n",
    "        self.global_step = 0\n",
    "        self.pen_coord = np.ones(2) * self.side/2\n",
    "        self.canvas = np.zeros((self.side, self.side))\n",
    "        \n",
    "        r = self.side/(3 + np.random.rand())\n",
    "        self.template = self.make_template(self.side, r)\n",
    "        \n",
    "        self.prev_cost = self.cost()\n",
    "        \n",
    "        o1 = (self.template != self.canvas)*self.template\n",
    "        o2 = np.zeros_like(o1); o2[self.pen_coord[0], self.pen_coord[1]] = 1\n",
    "        observation = np.concatenate((o1.ravel(),o2.ravel())).astype(np.float)\n",
    "        return observation\n",
    "        \n",
    "    def reward(self):\n",
    "        cost = self.cost()\n",
    "        r = -1*(cost - self.prev_cost)\n",
    "        self.prev_cost = cost\n",
    "        return r\n",
    "    \n",
    "    def cost(self):\n",
    "        cost = .5*np.sum((self.template - self.canvas)**2) #/ np.sum((self.template - self.canvas) != 0)\n",
    "        return cost\n",
    "        \n",
    "    @staticmethod\n",
    "    def make_template(side, r):\n",
    "        template = np.zeros((side, side))\n",
    "        x = np.linspace(0,2*np.pi,2*side)\n",
    "        template[(r*np.cos(x)).astype(int) + side/2, (r*np.sin(x)).astype(int) + side/2] = 1\n",
    "        \n",
    "        template = np.rot90(template, k=np.random.randint(4))\n",
    "        return template"
   ]
  },
  {
   "cell_type": "code",
   "execution_count": 86,
   "metadata": {
    "collapsed": false
   },
   "outputs": [
    {
     "name": "stdout",
     "output_type": "stream",
     "text": [
      "0\n",
      "0\n",
      "0\n",
      "0.0\n",
      "0.0\n",
      "0\n",
      "0\n",
      "0\n",
      "0\n",
      "0\n",
      "0.0\n",
      "0.0\n",
      "0\n",
      "0\n",
      "0\n",
      "0\n",
      "0\n",
      "0.0\n",
      "0\n",
      "0\n",
      "0\n",
      "0\n",
      "0\n",
      "0\n",
      "0.5\n",
      "0.5\n",
      "0.5\n",
      "0\n",
      "0\n",
      "0\n",
      "0\n",
      "0.0\n",
      "0.0\n",
      "0\n",
      "0\n",
      "0\n",
      "0\n",
      "0\n",
      "0\n",
      "0\n",
      "0\n",
      "0\n",
      "0\n",
      "0.0\n",
      "0.0\n",
      "0.0\n",
      "0.0\n",
      "0\n",
      "0.0\n",
      "0.0\n",
      "0.0\n",
      "0.0\n",
      "0\n",
      "0\n",
      "0\n",
      "0\n",
      "0.0\n",
      "0.0\n",
      "0\n",
      "0\n",
      "0.0\n",
      "0.0\n",
      "0\n",
      "0\n",
      "0.0\n",
      "0\n",
      "0\n",
      "0.0\n",
      "0\n",
      "0.0\n",
      "0\n",
      "-5\n",
      "0\n",
      "0\n",
      "0\n",
      "0\n",
      "-5\n",
      "-5\n",
      "-5\n",
      "-5.0\n",
      "0.0\n",
      "0.0\n",
      "-5.0\n",
      "0\n",
      "0.0\n",
      "-5.0\n",
      "0.0\n",
      "0\n",
      "0.0\n",
      "0\n",
      "-5.0\n",
      "0.0\n",
      "0\n",
      "0\n",
      "0\n",
      "-5\n",
      "-5.0\n",
      "0.0\n",
      "0\n",
      "0.0\n",
      "0.0\n",
      "0\n",
      "0\n",
      "0.0\n",
      "0.0\n",
      "0\n",
      "0\n",
      "0\n",
      "0\n",
      "0.0\n",
      "0\n",
      "0\n",
      "0\n",
      "0\n",
      "0.0\n",
      "0.0\n",
      "0\n",
      "0\n",
      "0\n",
      "0\n",
      "0.0\n",
      "0.0\n",
      "0.0\n",
      "0.0\n",
      "0.0\n",
      "0.0\n",
      "0.0\n",
      "0.0\n",
      "0.0\n",
      "-5\n",
      "0\n",
      "0\n",
      "-5.0\n",
      "0\n",
      "0\n",
      "0\n",
      "0.0\n",
      "0.0\n",
      "0.0\n",
      "0.0\n",
      "0.0\n"
     ]
    },
    {
     "name": "stderr",
     "output_type": "stream",
     "text": [
      "/usr/local/lib/python2.7/site-packages/ipykernel/__main__.py:58: VisibleDeprecationWarning: using a non-integer number instead of an integer will result in an error in the future\n",
      "/usr/local/lib/python2.7/site-packages/ipykernel/__main__.py:29: VisibleDeprecationWarning: using a non-integer number instead of an integer will result in an error in the future\n",
      "/usr/local/lib/python2.7/site-packages/ipykernel/__main__.py:39: VisibleDeprecationWarning: using a non-integer number instead of an integer will result in an error in the future\n"
     ]
    },
    {
     "data": {
      "text/plain": [
       "<matplotlib.image.AxesImage at 0x10ba23890>"
      ]
     },
     "execution_count": 86,
     "metadata": {},
     "output_type": "execute_result"
    },
    {
     "data": {
      "image/png": "[encoded data removed]",
      "text/plain": [
       "<matplotlib.figure.Figure at 0x10e98f890>"
      ]
     },
     "metadata": {},
     "output_type": "display_data"
    },
    {
     "data": {
      "image/png": "[encoded data removed]",
      "text/plain": [
       "<matplotlib.figure.Figure at 0x10e25e410>"
      ]
     },
     "metadata": {},
     "output_type": "display_data"
    },
    {
     "data": {
      "image/png": "[encoded data removed]",
      "text/plain": [
       "<matplotlib.figure.Figure at 0x10e979f10>"
      ]
     },
     "metadata": {},
     "output_type": "display_data"
    }
   ],
   "source": [
    "env = CircleWorld(28)\n",
    "o = env.reset()\n",
    "\n",
    "done = False\n",
    "while not done:\n",
    "    action = np.random.randint(8)\n",
    "    observation, reward, done, info = env.step(action)\n",
    "#     if reward > .1: print reward\n",
    "    print reward\n",
    "\n",
    "plt.figure(0)\n",
    "plt.imshow(env.canvas + 2*env.template)\n",
    "plt.figure(1)\n",
    "plt.imshow(np.reshape(observation[:28**2],(28,28)))\n",
    "plt.figure(2)\n",
    "plt.imshow(np.reshape(observation[28**2:],(28,28)))"
   ]
  },
  {
   "cell_type": "code",
   "execution_count": 36,
   "metadata": {
    "collapsed": false
   },
   "outputs": [
    {
     "name": "stdout",
     "output_type": "stream",
     "text": [
      "108.0\n",
      "108\n"
     ]
    }
   ],
   "source": [
    "print np.sum((env.template - env.canvas)**2)"
   ]
  },
  {
   "cell_type": "code",
   "execution_count": 10,
   "metadata": {
    "collapsed": false
   },
   "outputs": [
    {
     "name": "stderr",
     "output_type": "stream",
     "text": [
      "/usr/local/lib/python2.7/site-packages/ipykernel/__main__.py:54: VisibleDeprecationWarning: using a non-integer number instead of an integer will result in an error in the future\n"
     ]
    },
    {
     "ename": "ValueError",
     "evalue": "total size of new array must be unchanged",
     "output_type": "error",
     "traceback": [
      "\u001b[0;31m---------------------------------------------------------------------------\u001b[0m",
      "\u001b[0;31mValueError\u001b[0m                                Traceback (most recent call last)",
      "\u001b[0;32m<ipython-input-10-35e65e0d77df>\u001b[0m in \u001b[0;36m<module>\u001b[0;34m()\u001b[0m\n\u001b[1;32m      1\u001b[0m \u001b[0mo\u001b[0m \u001b[0;34m=\u001b[0m \u001b[0menv\u001b[0m\u001b[0;34m.\u001b[0m\u001b[0mreset\u001b[0m\u001b[0;34m(\u001b[0m\u001b[0;34m)\u001b[0m\u001b[0;34m\u001b[0m\u001b[0m\n\u001b[1;32m      2\u001b[0m \u001b[0mplt\u001b[0m\u001b[0;34m.\u001b[0m\u001b[0mfigure\u001b[0m\u001b[0;34m(\u001b[0m\u001b[0;36m0\u001b[0m\u001b[0;34m)\u001b[0m\u001b[0;34m\u001b[0m\u001b[0m\n\u001b[0;32m----> 3\u001b[0;31m \u001b[0mplt\u001b[0m\u001b[0;34m.\u001b[0m\u001b[0mimshow\u001b[0m\u001b[0;34m(\u001b[0m\u001b[0mnp\u001b[0m\u001b[0;34m.\u001b[0m\u001b[0mreshape\u001b[0m\u001b[0;34m(\u001b[0m\u001b[0mo\u001b[0m\u001b[0;34m,\u001b[0m \u001b[0;34m(\u001b[0m\u001b[0;36m28\u001b[0m\u001b[0;34m,\u001b[0m\u001b[0;36m28\u001b[0m\u001b[0;34m)\u001b[0m\u001b[0;34m)\u001b[0m\u001b[0;34m)\u001b[0m\u001b[0;34m\u001b[0m\u001b[0m\n\u001b[0m",
      "\u001b[0;32m/usr/local/lib/python2.7/site-packages/numpy/core/fromnumeric.pyc\u001b[0m in \u001b[0;36mreshape\u001b[0;34m(a, newshape, order)\u001b[0m\n\u001b[1;32m    222\u001b[0m     \u001b[0;32mexcept\u001b[0m \u001b[0mAttributeError\u001b[0m\u001b[0;34m:\u001b[0m\u001b[0;34m\u001b[0m\u001b[0m\n\u001b[1;32m    223\u001b[0m         \u001b[0;32mreturn\u001b[0m \u001b[0m_wrapit\u001b[0m\u001b[0;34m(\u001b[0m\u001b[0ma\u001b[0m\u001b[0;34m,\u001b[0m \u001b[0;34m'reshape'\u001b[0m\u001b[0;34m,\u001b[0m \u001b[0mnewshape\u001b[0m\u001b[0;34m,\u001b[0m \u001b[0morder\u001b[0m\u001b[0;34m=\u001b[0m\u001b[0morder\u001b[0m\u001b[0;34m)\u001b[0m\u001b[0;34m\u001b[0m\u001b[0m\n\u001b[0;32m--> 224\u001b[0;31m     \u001b[0;32mreturn\u001b[0m \u001b[0mreshape\u001b[0m\u001b[0;34m(\u001b[0m\u001b[0mnewshape\u001b[0m\u001b[0;34m,\u001b[0m \u001b[0morder\u001b[0m\u001b[0;34m=\u001b[0m\u001b[0morder\u001b[0m\u001b[0;34m)\u001b[0m\u001b[0;34m\u001b[0m\u001b[0m\n\u001b[0m\u001b[1;32m    225\u001b[0m \u001b[0;34m\u001b[0m\u001b[0m\n\u001b[1;32m    226\u001b[0m \u001b[0;34m\u001b[0m\u001b[0m\n",
      "\u001b[0;31mValueError\u001b[0m: total size of new array must be unchanged"
     ]
    },
    {
     "data": {
      "text/plain": [
       "<matplotlib.figure.Figure at 0x107679390>"
      ]
     },
     "metadata": {},
     "output_type": "display_data"
    }
   ],
   "source": [
    "o = env.reset()\n",
    "plt.figure(0)\n",
    "plt.imshow(np.reshape(o, (28,28)))"
   ]
  },
  {
   "cell_type": "code",
   "execution_count": null,
   "metadata": {
    "collapsed": true
   },
   "outputs": [],
   "source": []
  }
 ],
 "metadata": {
  "kernelspec": {
   "display_name": "Python 2",
   "language": "python",
   "name": "python2"
  },
  "language_info": {
   "codemirror_mode": {
    "name": "ipython",
    "version": 2
   },
   "file_extension": ".py",
   "mimetype": "text/x-python",
   "name": "python",
   "nbconvert_exporter": "python",
   "pygments_lexer": "ipython2",
   "version": "2.7.10"
  }
 },
 "nbformat": 4,
 "nbformat_minor": 1
}
